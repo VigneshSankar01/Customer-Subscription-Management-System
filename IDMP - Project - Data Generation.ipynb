{
 "cells": [
  {
   "cell_type": "markdown",
   "id": "7635b7df",
   "metadata": {},
   "source": [
    "## Csutomer Subscription Management System - Data Generation using Faker"
   ]
  },
  {
   "cell_type": "markdown",
   "id": "141419e5",
   "metadata": {},
   "source": [
    "#### Importing the Libraries"
   ]
  },
  {
   "cell_type": "code",
   "execution_count": 1,
   "id": "1a62a47a",
   "metadata": {},
   "outputs": [],
   "source": [
    "from faker import Faker\n",
    "import random\n",
    "import pandas as pd\n",
    "import datetime\n",
    "fake = Faker()"
   ]
  },
  {
   "cell_type": "markdown",
   "id": "dddd5cef",
   "metadata": {},
   "source": [
    "#### Generate the Data for all the Tables"
   ]
  },
  {
   "cell_type": "markdown",
   "id": "632b2acf",
   "metadata": {},
   "source": [
    "## User"
   ]
  },
  {
   "cell_type": "code",
   "execution_count": 2,
   "id": "602f9572",
   "metadata": {},
   "outputs": [],
   "source": [
    "# Create an empty list to store user data\n",
    "user_data = []\n",
    "# Define the list of categories\n",
    "categories = ['Self Employed', 'Student', 'Working Professional', 'Freelancer']\n",
    "Region = ['EMEA','LATAM','ASIA','NAM']\n",
    "# Generate data for 50 users\n",
    "for _ in range(500):\n",
    "    user_name = fake.name()\n",
    "    # Generate an email ID based on the user's first name and a random domain\n",
    "    first_name = user_name.split()[0].lower()\n",
    "    email = f\"{first_name}@{'gmail.com'}\"\n",
    "    region = random.choice(Region)\n",
    "    category = random.choice(categories)  # Randomly select a category from the list\n",
    "    user_data.append({\n",
    "        'user_name': user_name,\n",
    "        'email_id': email,\n",
    "        'region': region,\n",
    "        'category': category})\n",
    "# Create a pandas DataFrame from the user data\n",
    "User = pd.DataFrame(user_data)\n",
    "\n",
    "# Read the dataset from Online - Kaggle\n",
    "other_details = pd.read_csv('customer_info.csv')\n",
    "\n",
    "#Rename a few column Names\n",
    "other_details.rename(columns={'customer_id':'user_id'},inplace=True)\n",
    "\n",
    "#Combine it with the new generated columns\n",
    "user_details = User.join(other_details)\n",
    "\n",
    "#Rearrange the columns\n",
    "User = user_details[['user_id', 'user_name', 'age','email_id', 'region', 'category','gender']]"
   ]
  },
  {
   "cell_type": "markdown",
   "id": "1b6f05c0",
   "metadata": {},
   "source": [
    "## Subscription"
   ]
  },
  {
   "cell_type": "code",
   "execution_count": 4,
   "id": "5f3f173b",
   "metadata": {},
   "outputs": [],
   "source": [
    "# Create a list of 15 distinct product IDs\n",
    "distinct_product_ids = [fake.uuid4() for _ in range(10)]\n",
    "distinct_channel_ids = ['Channel 1','Channel 2','Channel 3','Channel 4','Channel 5',\n",
    "                        'Channel 6','Channel 7','Channel 8','Channel 9','Channel 10']\n",
    "\n",
    "# Create a list to store subscription data\n",
    "subscription_data = []\n",
    "\n",
    "# Generate subscriptions for users\n",
    "user_id_prefix = \"C2448\"\n",
    "user_id_counter = 0\n",
    "\n",
    "# Define the number of users and subscriptions\n",
    "num_users = 500  # You can change this to the desired number of users\n",
    "\n",
    "for _ in range(num_users):\n",
    "    user_id = \"C\"+str(int(user_id_prefix.split('C')[1])+user_id_counter)\n",
    "    num_subscriptions = random.randint(0, 10)  # Randomly select the number of subscriptions (0 to 10)\n",
    "\n",
    "    for sub_id in range(1, num_subscriptions + 1):\n",
    "        subscription_id =  fake.uuid4()\n",
    "        product_id = random.choice(distinct_product_ids)  # Randomly select from the list of distinct product IDs\n",
    "        channel_id = random.choice(distinct_channel_ids)  # Randomly select a Channel ID\n",
    "        start_date = fake.date_between_dates(datetime.date(2023, 1, 1), datetime.date(2023, 11, 1))\n",
    "        end_date = fake.date_between_dates(start_date, datetime.date(2023, 12, 31))\n",
    "\n",
    "        subscription_data.append({\n",
    "            'user_id': user_id,\n",
    "            'subscription_id': subscription_id,\n",
    "            'product_id': product_id,\n",
    "            'channel_id': channel_id,\n",
    "            'start_date': start_date,\n",
    "            'end_date': end_date,\n",
    "        })\n",
    "    user_id_counter += 1\n",
    "\n",
    "# You can create a DataFrame or perform other operations with the subscription data\n",
    "Subscription = pd.DataFrame(subscription_data)"
   ]
  },
  {
   "cell_type": "markdown",
   "id": "a2db8d2f",
   "metadata": {},
   "source": [
    "## Product & Channel"
   ]
  },
  {
   "cell_type": "code",
   "execution_count": 5,
   "id": "71077a7e",
   "metadata": {},
   "outputs": [],
   "source": [
    "prod_list = []\n",
    "prod_name = []\n",
    "for i in list(Subscription['product_id']):\n",
    "    if i in prod_list:\n",
    "        continue\n",
    "    else:\n",
    "        prod_list.append(i)\n",
    "for i in range(1,11,1):\n",
    "    prod_name.append('Product'+str(i))\n",
    "\n",
    "channel_list = []\n",
    "channel_name = ['Email','Display','Paid Search','Facebook','Snapchat','LinkedIn','Company\\'s Website','Mobile','Referral','Others']\n",
    "for i in list(Subscription['channel_id']):\n",
    "    if i in channel_list:\n",
    "        continue\n",
    "    else:\n",
    "        channel_list.append(i)\n",
    "Product = pd.DataFrame({'product_id':prod_list,\n",
    "                       'product_name':prod_name})\n",
    "Channel = pd.DataFrame({'channel_id':channel_list,\n",
    "                       'channel_name':channel_name})"
   ]
  },
  {
   "cell_type": "markdown",
   "id": "cc186ab0",
   "metadata": {},
   "source": [
    "## Revenue"
   ]
  },
  {
   "cell_type": "code",
   "execution_count": 6,
   "id": "4124eadd",
   "metadata": {},
   "outputs": [],
   "source": [
    "# Assuming 'Subscription' is a DataFrame with 'subscription_id' column\n",
    "sub_list = Subscription['subscription_id']\n",
    "revenue_types = ['Monthly', 'Bi-Annual', 'Annual']\n",
    "revenue_data = []\n",
    "\n",
    "for id in range(len(Subscription['subscription_id'])):\n",
    "    revenue_id = fake.uuid4()\n",
    "    revenue_type = random.choice(revenue_types)\n",
    "    # Generate a random gross ARR based on subscription type\n",
    "    if revenue_type == 'Monthly':\n",
    "        gross_arr = round(random.uniform(15, 20), 2)\n",
    "    elif revenue_type == 'Bi-Annual':\n",
    "        gross_arr = round(random.uniform(30, 60), 2)\n",
    "    else:  # Annual\n",
    "        gross_arr = round(random.uniform(90, 110), 2)\n",
    "    revenue_data.append({\n",
    "        'revenue_id': revenue_id,\n",
    "        'revenue_type': revenue_type,\n",
    "        'gross_arr_in_usd': gross_arr,\n",
    "        'subscription_id': sub_id\n",
    "    })\n",
    "\n",
    "revenue = pd.DataFrame(revenue_data)\n",
    "revenue['subscription_id'] = sub_list"
   ]
  },
  {
   "cell_type": "markdown",
   "id": "e316ea3e",
   "metadata": {},
   "source": [
    "## Enagagement"
   ]
  },
  {
   "cell_type": "code",
   "execution_count": 1,
   "id": "6235b667",
   "metadata": {},
   "outputs": [],
   "source": [
    "user_id_prefix = \"C2448\"\n",
    "user_id_counter = 0\n",
    "\n",
    "# Define the number of users and subscriptions\n",
    "num_users = 500  # You can change this to the desired number of users\n",
    "\n",
    "for _ in range(num_users):\n",
    "    user_id = \"C\"+str(int(user_id_prefix.split('C')[1])+user_id_counter)"
   ]
  },
  {
   "cell_type": "code",
   "execution_count": 8,
   "id": "a4b46fb0",
   "metadata": {},
   "outputs": [],
   "source": [
    "user_data = []\n",
    "num_users = 500\n",
    "start_user_id = \"C2448\"\n",
    "user_inc = 0\n",
    "user_types = ['New Dormant', 'Sustained Active', 'Sustained Dormant', 'New Active']\n",
    "engagement_indexes = {\n",
    "    'New Dormant': random.uniform(0, 0.4),\n",
    "    'Sustained Active': random.uniform(0.5, 0.99),\n",
    "    'Sustained Dormant': random.uniform(0.1, 0.4),\n",
    "    'New Active': random.uniform(0.5, 1.0)\n",
    "}\n",
    "# Generate data for 500 users\n",
    "for _ in range(num_users):\n",
    "    user_id = \"C\"+str(int(start_user_id.split('C')[1])+user_inc)\n",
    "    user_type = random.choice(user_types)\n",
    "    engagement_index = engagement_indexes[user_type]  \n",
    "    user_data.append({\n",
    "        'user_id': f\"{user_id}\",\n",
    "        'user_type': user_type,\n",
    "        'engagement_index': round(engagement_index, 2)\n",
    "    })\n",
    "    user_inc+=1\n",
    "Engagement = pd.DataFrame(user_data)"
   ]
  },
  {
   "cell_type": "markdown",
   "id": "85879c69",
   "metadata": {},
   "source": [
    "## Activities"
   ]
  },
  {
   "cell_type": "code",
   "execution_count": 9,
   "id": "13db0aa2",
   "metadata": {},
   "outputs": [],
   "source": [
    "# Create a list to store subscription data\n",
    "activity_data = []\n",
    "act = ['Installed', 'Downloaded', 'Launched']\n",
    "# Generate subscriptions for users\n",
    "user_id_pre = \"C2448\"\n",
    "user_id_count = 0\n",
    "\n",
    "# Define the number of users and subscriptions\n",
    "num_users = 500\n",
    "\n",
    "for _ in range(num_users):\n",
    "    user_id = \"C\" + str(int(user_id_pre.split('C')[1]) + user_id_count)\n",
    "    num_activities = random.randint(0, 5)  # Randomly select the number of subscriptions (0 to 10)\n",
    "\n",
    "    # Ensure the desired sequence: 'Downloaded', 'Installed', 'Launched'\n",
    "    if num_activities >= 3:\n",
    "        num_remaining_activities = num_activities - 3\n",
    "        activity_sequence = ['Downloaded', 'Installed', 'Launched'] + random.sample(act, k=min(num_remaining_activities, len(act)))\n",
    "    else:\n",
    "        activity_sequence = random.sample(act, k=num_activities)\n",
    "\n",
    "    for activity_type in activity_sequence:\n",
    "        activity_date = fake.date_between_dates(datetime.date(2020, 1, 1), datetime.date(2024, 12, 31))\n",
    "        activity_data.append({\n",
    "            'activity_id': fake.uuid4(),\n",
    "            'user_id': user_id,\n",
    "            'activity_date': activity_date,\n",
    "            'activity_type': activity_type\n",
    "        })\n",
    "\n",
    "    user_id_count += 1\n",
    "\n",
    "# You can create a DataFrame or perform other operations with the subscription data\n",
    "Activities = pd.DataFrame(activity_data)\n"
   ]
  },
  {
   "cell_type": "markdown",
   "id": "3892acbb",
   "metadata": {},
   "source": [
    "## Feedback"
   ]
  },
  {
   "cell_type": "code",
   "execution_count": 11,
   "id": "4479e9d2",
   "metadata": {},
   "outputs": [],
   "source": [
    "num_users = 500\n",
    "user_id_prefix = 'C2448'\n",
    "user_id_count = 0\n",
    "# Probability that a user gives feedback (adjust as needed)\n",
    "feedback_probability = 0.5\n",
    "fb = ['Love the new interface! So much more intuitive and user-friendly.',\n",
    "'The speed improvements are noticeable—great job on optimizing performance!',\n",
    "'Customization options are a game-changer. Now I can tailor it to my needs.',\n",
    "'Experiencing fewer glitches; the recent update really improved stability.',\n",
    "'Cross-platform support is fantastic! Works seamlessly on all my devices.',\n",
    "'The new integrations make my workflow much smoother—thank you!',\n",
    "'I feel more secure using the product with the enhanced safety features.',\n",
    "'Had an issue, but the customer support team was quick and helpful!',\n",
    "'Revised pricing plans make it more affordable for small businesses like mine.',\n",
    "'Scalability improvements are evident; it handles our growing needs well.',\n",
    "'Offline mode is a lifesaver—no more disruptions when I\\'m without internet.',\n",
    "'Data portability tools are handy; I can manage my information easily.',\n",
    "'Stability improvements reflect positively on the company\\'s dedication to quality.',\n",
    "'Cross-platform support aligns well with the company\\'s user-centric approach.',\n",
    "'Welcoming new integrations show the company\\'s adaptability and innovation.',\n",
    "'Noticed a strong focus on security; it instills confidence in the company.',\n",
    "'Frequent updates suggest a company that actively seeks to improve its products.',\n",
    "'Implementation of user feedback demonstrates the company\\'s user-centric approach.',\n",
    "'Data portability tools show the company\\'s commitment to user data control.',\n",
    "'Gamification elements showcase a company that values user engagement.']\n",
    "# Generate feedback for users\n",
    "feedback_data = []\n",
    "for user_num in range(num_users):\n",
    "    user_id = \"C\"+str(int(user_id_prefix.split('C')[1])+user_id_count)\n",
    "    if random.random() < feedback_probability:\n",
    "        feedback_id = fake.uuid4()\n",
    "        feedback_date = fake.date_between_dates(datetime.date(2020, 1, 1),datetime.date(2024, 12, 31))\n",
    "        feedback_data.append({\n",
    "            'feedback_id': feedback_id,\n",
    "            'user_id': user_id,\n",
    "            'feedback_date': feedback_date,\n",
    "            'feedback': random.choice(fb)\n",
    "        })\n",
    "    user_id_count +=1\n",
    "\n",
    "feedback  = pd.DataFrame(feedback_data)"
   ]
  },
  {
   "cell_type": "markdown",
   "id": "f7b35da7",
   "metadata": {},
   "source": [
    "## Campaign Touch"
   ]
  },
  {
   "cell_type": "code",
   "execution_count": 12,
   "id": "b8ddcd3f",
   "metadata": {},
   "outputs": [],
   "source": [
    "# Categories for campaign names\n",
    "categories = [\"Welcome\", \"Subscription Expiry\", \"New Trial Offer\", \"Onboarding\", \"Discounts\", \"Engagement Testing\"]\n",
    "\n",
    "# Campaign ID, Campaign Name, and Campaign Type\n",
    "campaign_ids = [1, 2, 3, 4, 5, 6, 7, 8, 9, 10, 11, 12]\n",
    "campaign_names = [\"Campaign 1\", \"Campaign 2\", \"Campaign 3\", \"Campaign 4\", \"Campaign 5\", \"Campaign 6\", \"Campaign 7\",\n",
    "                  \"Campaign 8\", \"Campaign 9\", \"Campaign 10\", \"Campaign 11\", \"Campaign 12\"]\n",
    "campaign_category_mapping = ['New Trial Offer','Enagagement Testing','New Trial Offer','Onboarding',\n",
    "                                 'Subscription Expiry','Welcome','Discounts','Onboarding','Subscription Expiry',\n",
    "                                 'Subscription Expiry','Welcome','New Trial Offer']\n",
    "# Number of users and user ID prefix\n",
    "\n",
    "campaign_data = {\n",
    "            'campaign_id': campaign_ids,\n",
    "            'campaign_name': campaign_names,\n",
    "            'campaign_type': campaign_category_mapping\n",
    "        }\n",
    "campaign = pd.DataFrame(campaign_data)"
   ]
  },
  {
   "cell_type": "markdown",
   "id": "5f7dd725",
   "metadata": {},
   "source": [
    "## Touched_By"
   ]
  },
  {
   "cell_type": "code",
   "execution_count": 13,
   "id": "092307cb",
   "metadata": {},
   "outputs": [],
   "source": [
    "touch_date = []\n",
    "campaign_ids = [1, 2, 3, 4, 5, 6, 7, 8, 9, 10, 11, 12]\n",
    "campaign_id = []\n",
    "user_id_p = 'C2448'\n",
    "touch_by = []\n",
    "user_id_c = 0\n",
    "num_users = 500\n",
    "user_id = 0\n",
    "for _ in range(num_users):\n",
    "    user_id = \"C\"+str(int(user_id_p.split('C')[1])+user_id_c)\n",
    "    #print(user_id)\n",
    "    num_campaigns = random.randint(0, 3)  # Randomly select the number of subscriptions (0 to 10)\n",
    "    for camps in range(1, num_campaigns + 1):\n",
    "        touch_date = fake.date_between(start_date=datetime.date(2022, 1, 1), end_date=datetime.date(2023, 12, 31))\n",
    "        campaign_id= random.choice(campaign_ids)\n",
    "        #print(user_id)\n",
    "        touch_by.append({\n",
    "            'user_id': user_id,  \n",
    "            'campaign_id': campaign_id,\n",
    "            'touch_date': touch_date})\n",
    "    user_id_c+=1\n",
    "touched_by = pd.DataFrame(touch_by) "
   ]
  },
  {
   "cell_type": "markdown",
   "id": "82546d47",
   "metadata": {},
   "source": [
    "## Preferences"
   ]
  },
  {
   "cell_type": "code",
   "execution_count": 14,
   "id": "64fa57d0",
   "metadata": {},
   "outputs": [],
   "source": [
    "preferences_df = []\n",
    "user_id_c = 0\n",
    "user_id_p = 'C2448'\n",
    "pref_name = ['Ease of Use','Performance and Speed'\n",
    ",'Customization Options','Reliability and Stability'\n",
    ",'Cross-Platform Compatibility','Integration with Other Tools'\n",
    ",'Security Measures','Regular Updates and Maintenance'\n",
    ",'Responsive Customer Support','Cost-Effectiveness'\n",
    ",'Scalability','Offline Access'\n",
    ",'Community and User Resources','Innovative Features'\n",
    ",'User Education and Onboarding','Feedback Mechanism'\n",
    ",'Data Portability','Environmental Sustainability'\n",
    ",'Accessibility Features','Gamification (if applicable)']\n",
    "for _ in range(20):\n",
    "    preference_id= fake.uuid4()\n",
    "    preference_name = random.choice(pref_name)\n",
    "    preferences_df.append({\n",
    "            'preference_id': preference_id,\n",
    "            'preference_name': preference_name\n",
    "        })\n",
    "preferences = pd.DataFrame(preferences_df)"
   ]
  },
  {
   "cell_type": "markdown",
   "id": "055d0c90",
   "metadata": {},
   "source": [
    "## Product_Updates"
   ]
  },
  {
   "cell_type": "code",
   "execution_count": 18,
   "id": "25a154f5",
   "metadata": {},
   "outputs": [
    {
     "data": {
      "text/html": [
       "<div>\n",
       "<style scoped>\n",
       "    .dataframe tbody tr th:only-of-type {\n",
       "        vertical-align: middle;\n",
       "    }\n",
       "\n",
       "    .dataframe tbody tr th {\n",
       "        vertical-align: top;\n",
       "    }\n",
       "\n",
       "    .dataframe thead th {\n",
       "        text-align: right;\n",
       "    }\n",
       "</style>\n",
       "<table border=\"1\" class=\"dataframe\">\n",
       "  <thead>\n",
       "    <tr style=\"text-align: right;\">\n",
       "      <th></th>\n",
       "      <th>update_id</th>\n",
       "      <th>user_id</th>\n",
       "      <th>update_name</th>\n",
       "    </tr>\n",
       "  </thead>\n",
       "  <tbody>\n",
       "    <tr>\n",
       "      <th>0</th>\n",
       "      <td>2578174b-4945-4d75-b7d6-88d84e8063e4</td>\n",
       "      <td>C2448</td>\n",
       "      <td>Your Security Matters: Check Out Our Enhanced ...</td>\n",
       "    </tr>\n",
       "    <tr>\n",
       "      <th>1</th>\n",
       "      <td>ea3e4642-8b61-4036-96d7-be3477d0e8e1</td>\n",
       "      <td>C2449</td>\n",
       "      <td>Go Anywhere, Do Anything: Cross-Platform Suppo...</td>\n",
       "    </tr>\n",
       "    <tr>\n",
       "      <th>2</th>\n",
       "      <td>729b17c0-16ea-4e75-bfdd-0937ec2eb397</td>\n",
       "      <td>C2449</td>\n",
       "      <td>Budget-Friendly Options: Explore Our Revised P...</td>\n",
       "    </tr>\n",
       "    <tr>\n",
       "      <th>3</th>\n",
       "      <td>87d9a41f-8e9c-41d5-840a-de3f26ca2622</td>\n",
       "      <td>C2450</td>\n",
       "      <td>Never Lose Momentum: Exciting Updates to Our O...</td>\n",
       "    </tr>\n",
       "    <tr>\n",
       "      <th>4</th>\n",
       "      <td>ad04c0b5-de25-4af8-93f6-37637b8e17dd</td>\n",
       "      <td>C2451</td>\n",
       "      <td>Budget-Friendly Options: Explore Our Revised P...</td>\n",
       "    </tr>\n",
       "    <tr>\n",
       "      <th>...</th>\n",
       "      <td>...</td>\n",
       "      <td>...</td>\n",
       "      <td>...</td>\n",
       "    </tr>\n",
       "    <tr>\n",
       "      <th>726</th>\n",
       "      <td>76cb28f9-e8b1-4585-8a09-c47a7642e7c4</td>\n",
       "      <td>C2943</td>\n",
       "      <td>Growing Together: We've Improved Scalability f...</td>\n",
       "    </tr>\n",
       "    <tr>\n",
       "      <th>727</th>\n",
       "      <td>49c4ae9f-0935-4659-b4b1-88f7fe70091b</td>\n",
       "      <td>C2944</td>\n",
       "      <td>Go Anywhere, Do Anything: Cross-Platform Suppo...</td>\n",
       "    </tr>\n",
       "    <tr>\n",
       "      <th>728</th>\n",
       "      <td>4e974b73-e74e-48bd-ac4f-22e353312dae</td>\n",
       "      <td>C2945</td>\n",
       "      <td>Accessible to All: Check Out Our Latest Access...</td>\n",
       "    </tr>\n",
       "    <tr>\n",
       "      <th>729</th>\n",
       "      <td>4861d8af-df6b-468f-ab4c-ce4c611c2f95</td>\n",
       "      <td>C2946</td>\n",
       "      <td>Take Control: Manage Your Data with Our Improv...</td>\n",
       "    </tr>\n",
       "    <tr>\n",
       "      <th>730</th>\n",
       "      <td>7b7a56cf-f732-40ca-8d34-cc445b50020c</td>\n",
       "      <td>C2947</td>\n",
       "      <td>Easy Onboarding: Get Started Faster with Our R...</td>\n",
       "    </tr>\n",
       "  </tbody>\n",
       "</table>\n",
       "<p>731 rows × 3 columns</p>\n",
       "</div>"
      ],
      "text/plain": [
       "                                update_id user_id  \\\n",
       "0    2578174b-4945-4d75-b7d6-88d84e8063e4   C2448   \n",
       "1    ea3e4642-8b61-4036-96d7-be3477d0e8e1   C2449   \n",
       "2    729b17c0-16ea-4e75-bfdd-0937ec2eb397   C2449   \n",
       "3    87d9a41f-8e9c-41d5-840a-de3f26ca2622   C2450   \n",
       "4    ad04c0b5-de25-4af8-93f6-37637b8e17dd   C2451   \n",
       "..                                    ...     ...   \n",
       "726  76cb28f9-e8b1-4585-8a09-c47a7642e7c4   C2943   \n",
       "727  49c4ae9f-0935-4659-b4b1-88f7fe70091b   C2944   \n",
       "728  4e974b73-e74e-48bd-ac4f-22e353312dae   C2945   \n",
       "729  4861d8af-df6b-468f-ab4c-ce4c611c2f95   C2946   \n",
       "730  7b7a56cf-f732-40ca-8d34-cc445b50020c   C2947   \n",
       "\n",
       "                                           update_name  \n",
       "0    Your Security Matters: Check Out Our Enhanced ...  \n",
       "1    Go Anywhere, Do Anything: Cross-Platform Suppo...  \n",
       "2    Budget-Friendly Options: Explore Our Revised P...  \n",
       "3    Never Lose Momentum: Exciting Updates to Our O...  \n",
       "4    Budget-Friendly Options: Explore Our Revised P...  \n",
       "..                                                 ...  \n",
       "726  Growing Together: We've Improved Scalability f...  \n",
       "727  Go Anywhere, Do Anything: Cross-Platform Suppo...  \n",
       "728  Accessible to All: Check Out Our Latest Access...  \n",
       "729  Take Control: Manage Your Data with Our Improv...  \n",
       "730  Easy Onboarding: Get Started Faster with Our R...  \n",
       "\n",
       "[731 rows x 3 columns]"
      ]
     },
     "execution_count": 18,
     "metadata": {},
     "output_type": "execute_result"
    }
   ],
   "source": [
    "num_users =  500\n",
    "prefers_data = []\n",
    "user_id_count = 0\n",
    "ups = ['Explore Our Redesigned Interface: A Fresh Look Awaits You!'\n",
    ",'Experience Lightning-Fast Speeds with Our Latest Performance Boost!'\n",
    ",'Unleash Your Creativity: New Customization Options Available Now!'\n",
    ",'Say Goodbye to Glitches: Our Latest Update Ensures Stability!'\n",
    ",'Go Anywhere, Do Anything: Cross-Platform Support Expanded!'\n",
    ",'Seamless Workflows: Introducing New Integrations for Your Convenience!'\n",
    ",'Your Security Matters: Check Out Our Enhanced Safety Features!'\n",
    ",'Stay Updated: Frequent Patches and Improvements Just Released!'\n",
    ",'Need Help? Our Customer Support Team is Now Even More Responsive!'\n",
    ",'Budget-Friendly Options: Explore Our Revised Pricing Plans!'\n",
    ",'Growing Together: We\\'ve Improved Scalability for Your Needs!'\n",
    ",'Never Lose Momentum: Exciting Updates to Our Offline Mode!'\n",
    ",'Join the Conversation: Connect with Our Community and Forums!'\n",
    ",'Innovation Unleashed: Discover New Features for Enhanced Performance!'\n",
    ",'Easy Onboarding: Get Started Faster with Our Refined Processes!'\n",
    ",'Your Voice Matters: New Features Implemented Based on Your Feedback!'\n",
    ",'Take Control: Manage Your Data with Our Improved Portability Tools!'\n",
    ",'Going Green: Embrace Sustainability with Our Eco-Friendly Features!'\n",
    ",'Accessible to All: Check Out Our Latest Accessibility Improvements!'\n",
    ",'Game On: Exciting Additions to Gamify Your Experience (if applicable)!']\n",
    "for _ in range(num_users):\n",
    "    user_id = \"C\"+str(int(user_id_pre.split('C')[1])+user_id_count)\n",
    "    num_prefs = random.randint(1, 2)\n",
    "    updates = random.sample(range(10), k=num_prefs)  # Using random.sample to ensure unique selections\n",
    "    # Creating rows for each preference of a user\n",
    "    for update in updates:\n",
    "        prefers_data.append({\n",
    "            'update_id':fake.uuid4(),\n",
    "            'user_id': user_id,\n",
    "            'update_name':random.choice(ups)\n",
    "        })\n",
    "    user_id_count += 1\n",
    "product_updates = pd.DataFrame(prefers_data)"
   ]
  },
  {
   "cell_type": "markdown",
   "id": "17b597dd",
   "metadata": {},
   "source": [
    "## Prefers"
   ]
  },
  {
   "cell_type": "code",
   "execution_count": 19,
   "id": "3f1dae94",
   "metadata": {},
   "outputs": [],
   "source": [
    "prefer_ids = preferences['preference_id']\n",
    "preference_id = []\n",
    "prefers= []\n",
    "user_id_p = 'C2448'\n",
    "user_id_c = 0\n",
    "num_users = 500\n",
    "user_id = 0\n",
    "for _ in range(num_users):\n",
    "    user_id = \"C\"+str(int(user_id_p.split('C')[1])+user_id_c)\n",
    "    #print(user_id)\n",
    "    num_prefs = random.randint(0, 3)  # Randomly select the number of subscriptions (0 to 10)\n",
    "    for camps in range(1, num_prefs + 1):\n",
    "        preference_id= random.choice(prefer_ids)\n",
    "        prefers.append({\n",
    "            'user_id': user_id,  \n",
    "            'preference_id': preference_id})\n",
    "    user_id_c+=1\n",
    "prefers_df = pd.DataFrame(prefers)"
   ]
  },
  {
   "cell_type": "markdown",
   "id": "0ad946ba",
   "metadata": {},
   "source": [
    "## Connect to MySQL "
   ]
  },
  {
   "cell_type": "code",
   "execution_count": 20,
   "id": "1618082a",
   "metadata": {},
   "outputs": [],
   "source": [
    "import pymysql\n",
    "connection = pymysql.connect(host='localhost',user='root',password='Vickymoneyheist@091',db='cl_management')\n",
    "cursor=connection.cursor()"
   ]
  },
  {
   "cell_type": "markdown",
   "id": "3ad6b0f8",
   "metadata": {},
   "source": [
    "## Push the Data to the Tables.\n",
    "- Done using cursor.execute() and cursor.commit() functions."
   ]
  },
  {
   "cell_type": "code",
   "execution_count": 21,
   "id": "aa39b7ba",
   "metadata": {},
   "outputs": [],
   "source": [
    "#Campaign\n",
    "camp = \",\".join([str(i) for i in campaign.columns.tolist()])\n",
    "for i,row in campaign.iterrows():\n",
    "    sql = \"INSERT INTO campaign_touch (\" +camp + \") VALUES (\" + \"%s,\"*(len(row)-1) + \"%s)\"\n",
    "    cursor.execute(sql, tuple(row))\n",
    "    connection.commit()"
   ]
  },
  {
   "cell_type": "code",
   "execution_count": 22,
   "id": "f8a320f9",
   "metadata": {},
   "outputs": [],
   "source": [
    "#User\n",
    "users = \",\".join([str(i) for i in User.columns.tolist()])\n",
    "for i,row in User.iterrows():\n",
    "    sql = \"INSERT INTO user (\" +users + \") VALUES (\" + \"%s,\"*(len(row)-1) + \"%s)\"\n",
    "    cursor.execute(sql, tuple(row))\n",
    "    connection.commit()"
   ]
  },
  {
   "cell_type": "code",
   "execution_count": 23,
   "id": "9f7a4c5c",
   "metadata": {},
   "outputs": [],
   "source": [
    "#Product\n",
    "prods = \",\".join([str(i) for i in Product.columns.tolist()])\n",
    "for i,row in Product.iterrows():\n",
    "    sql = \"INSERT INTO product (\" +prods + \") VALUES (\" + \"%s,\"*(len(row)-1) + \"%s)\"\n",
    "    cursor.execute(sql, tuple(row))\n",
    "    connection.commit()"
   ]
  },
  {
   "cell_type": "code",
   "execution_count": 24,
   "id": "61800b20",
   "metadata": {},
   "outputs": [],
   "source": [
    "#Channel\n",
    "channels = \",\".join([str(i) for i in Channel.columns.tolist()])\n",
    "for i,row in Channel.iterrows():\n",
    "    sql = \"INSERT INTO channel (\" +channels + \") VALUES (\" + \"%s,\"*(len(row)-1) + \"%s)\"\n",
    "    cursor.execute(sql, tuple(row))\n",
    "    connection.commit()"
   ]
  },
  {
   "cell_type": "code",
   "execution_count": 26,
   "id": "69305d18",
   "metadata": {},
   "outputs": [],
   "source": [
    "#Subscription\n",
    "subscriptions = \",\".join([str(i) for i in Subscription.columns.tolist()])\n",
    "for i,row in Subscription.iterrows():\n",
    "    sql = \"INSERT INTO subscription (\" +subscriptions + \") VALUES (\" + \"%s,\"*(len(row)-1) + \"%s)\"\n",
    "    cursor.execute(sql, tuple(row))\n",
    "    connection.commit()"
   ]
  },
  {
   "cell_type": "code",
   "execution_count": 27,
   "id": "c42c719f",
   "metadata": {},
   "outputs": [],
   "source": [
    "#Revenue\n",
    "reven = \",\".join([str(i) for i in revenue.columns.tolist()])\n",
    "for i,row in revenue.iterrows():\n",
    "    sql = \"INSERT INTO revenue (\" +reven + \") VALUES (\" + \"%s,\"*(len(row)-1) + \"%s)\"\n",
    "    cursor.execute(sql, tuple(row))\n",
    "    connection.commit()"
   ]
  },
  {
   "cell_type": "code",
   "execution_count": 28,
   "id": "4c6a8c0f",
   "metadata": {},
   "outputs": [],
   "source": [
    "#Engagement\n",
    "engs = \",\".join([str(i) for i in Engagement.columns.tolist()])\n",
    "for i,row in Engagement.iterrows():\n",
    "    sql = \"INSERT INTO engagement (\" +engs + \") VALUES (\" + \"%s,\"*(len(row)-1) + \"%s)\"\n",
    "    cursor.execute(sql, tuple(row))\n",
    "    connection.commit()"
   ]
  },
  {
   "cell_type": "code",
   "execution_count": 29,
   "id": "a31e44f3",
   "metadata": {},
   "outputs": [],
   "source": [
    "#Activities\n",
    "acts = \",\".join([str(i) for i in Activities.columns.tolist()])\n",
    "for i,row in Activities.iterrows():\n",
    "    sql = \"INSERT INTO activities (\" +acts + \") VALUES (\" + \"%s,\"*(len(row)-1) + \"%s)\"\n",
    "    cursor.execute(sql, tuple(row))\n",
    "    connection.commit()"
   ]
  },
  {
   "cell_type": "code",
   "execution_count": 30,
   "id": "5655c3d2",
   "metadata": {},
   "outputs": [],
   "source": [
    "#Product_Updates\n",
    "produpdates = \",\".join([str(i) for i in product_updates.columns.tolist()])\n",
    "for i,row in product_updates.iterrows():\n",
    "    sql = \"INSERT INTO product_updates (\" +produpdates + \") VALUES (\" + \"%s,\"*(len(row)-1) + \"%s)\"\n",
    "    cursor.execute(sql, tuple(row))\n",
    "    connection.commit()"
   ]
  },
  {
   "cell_type": "code",
   "execution_count": 31,
   "id": "4d240898",
   "metadata": {},
   "outputs": [],
   "source": [
    "#Feedback\n",
    "feed = \",\".join([str(i) for i in feedback.columns.tolist()])\n",
    "for i,row in feedback.iterrows():\n",
    "    sql = \"INSERT INTO feedback (\" +feed + \") VALUES (\" + \"%s,\"*(len(row)-1) + \"%s)\"\n",
    "    cursor.execute(sql, tuple(row))\n",
    "    connection.commit()"
   ]
  },
  {
   "cell_type": "code",
   "execution_count": 32,
   "id": "923dabbc",
   "metadata": {},
   "outputs": [],
   "source": [
    "#Touched_by\n",
    "tb = \",\".join([str(i) for i in touched_by.columns.tolist()])\n",
    "for i,row in touched_by.iterrows():\n",
    "    sql = \"INSERT INTO touched_by (\" +tb + \") VALUES (\" + \"%s,\"*(len(row)-1) + \"%s)\"\n",
    "    cursor.execute(sql, tuple(row))\n",
    "    connection.commit()"
   ]
  },
  {
   "cell_type": "code",
   "execution_count": 33,
   "id": "3f8993b4",
   "metadata": {},
   "outputs": [],
   "source": [
    "#preferences\n",
    "pref = \",\".join([str(i) for i in preferences.columns.tolist()])\n",
    "for i,row in preferences.iterrows():\n",
    "    sql = \"INSERT INTO preferences (\" +pref + \") VALUES (\" + \"%s,\"*(len(row)-1) + \"%s)\"\n",
    "    cursor.execute(sql, tuple(row))\n",
    "    connection.commit()"
   ]
  },
  {
   "cell_type": "code",
   "execution_count": 34,
   "id": "9fe65237",
   "metadata": {},
   "outputs": [],
   "source": [
    "#prefers\n",
    "pref = \",\".join([str(i) for i in prefers_df.columns.tolist()])\n",
    "for i,row in prefers_df.iterrows():\n",
    "    sql = \"INSERT INTO prefers (\" +pref + \") VALUES (\" + \"%s,\"*(len(row)-1) + \"%s)\"\n",
    "    cursor.execute(sql, tuple(row))\n",
    "    connection.commit()"
   ]
  }
 ],
 "metadata": {
  "kernelspec": {
   "display_name": "Python 3 (ipykernel)",
   "language": "python",
   "name": "python3"
  },
  "language_info": {
   "codemirror_mode": {
    "name": "ipython",
    "version": 3
   },
   "file_extension": ".py",
   "mimetype": "text/x-python",
   "name": "python",
   "nbconvert_exporter": "python",
   "pygments_lexer": "ipython3",
   "version": "3.11.4"
  }
 },
 "nbformat": 4,
 "nbformat_minor": 5
}
